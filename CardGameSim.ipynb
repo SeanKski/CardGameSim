{
 "cells": [
  {
   "cell_type": "markdown",
   "metadata": {},
   "source": [
    "## Proving Martry Wrong\n",
    "Deck = {1=1, 2=2, ..., 10=Jack, 11=Queen, 12=King, 13=Ace}"
   ]
  },
  {
   "cell_type": "markdown",
   "metadata": {},
   "source": [
    "### Marty's Strategy\n",
    ">Pick the max/min card  \n",
    ">Pick higher/lower depending on whether greater or less than 7\n",
    ">Repeat, until done"
   ]
  },
  {
   "cell_type": "markdown",
   "metadata": {},
   "source": [
    "### My Strategy\n",
    "\n",
    ">Find # of cards at the extreme (see extrema cards below)  \n",
    ">If, # of extrema cards == number_needed_right, chose the $(3-n_{RightRemaining})^{th}$ most extreme extrema  \n",
    ">Else, choose the most extreme not extrema card   \n",
    ">Pick higher/lower depending on whether greater or less than 7  \n",
    ">Repeat  \n",
    "\n",
    "* Example: Lets say you have a deck of {13, 12, 8, 7, 7, 7, ...}\n",
    "    * If you currently need to get 3 right, pick the 8\n",
    "    * If you currently need 2 right, pick the 12\n",
    "    * If you need only 1 right, pick the best card, 13"
   ]
  },
  {
   "cell_type": "code",
   "execution_count": 1,
   "metadata": {},
   "outputs": [],
   "source": [
    "EXTREMA_CARDS = {1,2, 12, 13}  # for my strategy"
   ]
  },
  {
   "cell_type": "code",
   "execution_count": 2,
   "metadata": {},
   "outputs": [],
   "source": [
    "import numpy as np\n",
    "import matplotlib.pyplot as plt\n",
    "rng = np.random.RandomState(42)  # seeding the random number generator"
   ]
  },
  {
   "cell_type": "code",
   "execution_count": 3,
   "metadata": {},
   "outputs": [],
   "source": [
    "def marty_choose_card(table, n_right):\n",
    "    # takes in table and outputs the location of the card we should go with\n",
    "    relative_positions = abs(table - 7)  # sets all cards to be the distance away from 7 (so 13 or 1 look equally good)\n",
    "    location = np.unravel_index(relative_positions.argmax(), table.shape)  # the location of the chosen card\n",
    "    return location"
   ]
  },
  {
   "cell_type": "code",
   "execution_count": 4,
   "metadata": {},
   "outputs": [],
   "source": [
    "def sean_choose_card(table, n_right):\n",
    "    # takes in table and n_right, and outputs the location of the card we should go with\n",
    "    current_extrema_cards = []\n",
    "    current_extrema_cards_ind = []\n",
    "    not_extrema_cards = []\n",
    "    not_extrema_cards_ind = []\n",
    "    # sorting all the cards into either extrema or non-extrema\n",
    "    for i in range(TABLE_DIMENSIONS[0]):\n",
    "        for j in range(TABLE_DIMENSIONS[1]):\n",
    "            # if this location has an extrema card, record its value and location\n",
    "            if table[i,j] in EXTREMA_CARDS:\n",
    "                current_extrema_cards.append(table[i,j])\n",
    "                current_extrema_cards_ind.append([i,j])\n",
    "            else:\n",
    "                not_extrema_cards.append(table[i,j])\n",
    "                not_extrema_cards_ind.append([i,j])\n",
    "    current_extrema_cards = np.array(current_extrema_cards)\n",
    "    not_extrema_cards = np.array(not_extrema_cards)\n",
    "    if current_extrema_cards.shape[0] >= 3 - n_right:\n",
    "        # if we have have enough extrema cards, pick the (3-n_right)^th most extreme card\n",
    "        relative_positions = abs(current_extrema_cards - 7)  # makes it so we are measuring distance from 7 (so max/min are equal)\n",
    "        location = current_extrema_cards_ind[relative_positions.argsort()[n_right-3]]\n",
    "    else:\n",
    "        # we do not have enough extrema cards, so pick the most extreme \"not-extrema\" card\n",
    "        relative_positions = abs(not_extrema_cards - 7)\n",
    "        location = not_extrema_cards_ind[relative_positions.argmax()]\n",
    "    return location"
   ]
  },
  {
   "cell_type": "code",
   "execution_count": 5,
   "metadata": {},
   "outputs": [],
   "source": [
    "def make_guess(table, location, card_counts, rng):\n",
    "    # takes in the location of the chosen card, the table, and the deck\n",
    "    # makes a guess of higher/lower, draws a card from the deck with probabilities seen in card_counts\n",
    "    # replaces the chosen card with the drawn card and returns the result of the guess, table, and card_counts\n",
    "    i,j = location\n",
    "    current_card = table[i, j]\n",
    "    drawn_card = rng.choice(np.arange(1,14), p=card_counts/card_counts.sum())\n",
    "    card_counts = decrement_card_counts(drawn_card, card_counts)\n",
    "    if current_card >= 7:\n",
    "        result = current_card > drawn_card\n",
    "    else:\n",
    "        result = current_card < drawn_card\n",
    "    \n",
    "    table[i, j] = drawn_card  # updating table\n",
    "    return result, table, card_counts"
   ]
  },
  {
   "cell_type": "code",
   "execution_count": 6,
   "metadata": {},
   "outputs": [],
   "source": [
    "def decrement_card_counts(card, card_counts):\n",
    "    # updates the card probabilites\n",
    "    card_index_in_counts = card-1\n",
    "    card_counts[card_index_in_counts] -= 1\n",
    "    if card_counts[card_index_in_counts] < 0:\n",
    "        card_counts[card_index_in_counts] = 0\n",
    "    if card_counts.sum() == 0:  # if we have run out of cards,\n",
    "        print('Ran through the whole deck!')\n",
    "        card_counts = np.full(shape=13, fill_value=4)  # reset the deck\n",
    "    return card_counts"
   ]
  },
  {
   "cell_type": "code",
   "execution_count": 7,
   "metadata": {},
   "outputs": [],
   "source": [
    "def play_game(card_pick_strategy, n_games, table_dim, rng=None):\n",
    "    # runs the game, and returns a np array of the number of guesses required to beat each game\n",
    "    if rng is None:  # if no random number generator is provided,\n",
    "        rng = np.random.RandomState(42)\n",
    "    n_guesses_over_games = []\n",
    "    for game_number in range(n_games):\n",
    "        # initializing game\n",
    "        n_consecutive_right = 0\n",
    "        n_guesses_in_game = 0\n",
    "        game_remaining_card_counts = np.full(shape=13, fill_value=4)  # reset the card probabilities\n",
    "        table = rng.randint(low=1, high=14, size=table_dim)  # draw a new table of cards\n",
    "        for card in table.flatten():\n",
    "            # updating the card probabilities from the cards in the table\n",
    "            game_remaining_card_counts = decrement_card_counts(card, game_remaining_card_counts)\n",
    "        n_consecutive_right = 0\n",
    "        # starting game\n",
    "        while n_consecutive_right < 3:\n",
    "            n_guesses_in_game += 1\n",
    "            picked_card = card_pick_strategy(table, n_consecutive_right)  # picks a card using the provided strategy\n",
    "            result, table, game_remaining_card_counts = make_guess(table, picked_card, game_remaining_card_counts, rng)\n",
    "            if result:  # if picked_card led to a correct guess\n",
    "                n_consecutive_right += 1\n",
    "            else:  # if picked_card is wrong, reset the n_consecutive_right\n",
    "                n_consecutive_right = 0 \n",
    "        # game end, recording results\n",
    "        n_guesses_over_games.append(n_guesses_in_game)\n",
    "    \n",
    "    return np.array(n_guesses_over_games)"
   ]
  },
  {
   "cell_type": "code",
   "execution_count": 8,
   "metadata": {},
   "outputs": [],
   "source": [
    "##HYPERPARAMETERS\n",
    "TABLE_DIMENSIONS = [4,4]\n",
    "N_GAMES = int(1e6)"
   ]
  },
  {
   "cell_type": "code",
   "execution_count": 9,
   "metadata": {},
   "outputs": [
    {
     "name": "stdout",
     "output_type": "stream",
     "text": [
      "Ran through the whole deck!\n",
      "Ran through the whole deck!\n",
      "Ran through the whole deck!\n",
      "Ran through the whole deck!\n"
     ]
    }
   ],
   "source": [
    "# Playing game with Marty's strategy:\n",
    "martys_results = play_game(marty_choose_card, n_games=N_GAMES, table_dim=TABLE_DIMENSIONS)"
   ]
  },
  {
   "cell_type": "code",
   "execution_count": 10,
   "metadata": {},
   "outputs": [
    {
     "name": "stdout",
     "output_type": "stream",
     "text": [
      "Marty's mean number of guesses per game:\n",
      "3.710797\n",
      "Marty's standard deviation of guesses:\n",
      "1.7158387525612657\n"
     ]
    }
   ],
   "source": [
    "print('Marty\\'s mean number of guesses per game:')\n",
    "print(martys_results.mean())\n",
    "print('Marty\\'s standard deviation of guesses:')\n",
    "print(martys_results.std())"
   ]
  },
  {
   "cell_type": "code",
   "execution_count": 11,
   "metadata": {},
   "outputs": [],
   "source": [
    "# Playing game with Sean's strategy:\n",
    "rng = np.random.RandomState(1)\n",
    "seans_results = play_game(sean_choose_card, n_games=N_GAMES, table_dim=TABLE_DIMENSIONS)"
   ]
  },
  {
   "cell_type": "code",
   "execution_count": 12,
   "metadata": {},
   "outputs": [
    {
     "name": "stdout",
     "output_type": "stream",
     "text": [
      "Sean's mean number of guesses per game:\n",
      "3.555676\n",
      "Sean's standard deviation of guesses:\n",
      "1.25440112524822\n"
     ]
    }
   ],
   "source": [
    "print('Sean\\'s mean number of guesses per game:')\n",
    "print(seans_results.mean())\n",
    "print('Sean\\'s standard deviation of guesses:')\n",
    "print(seans_results.std())"
   ]
  },
  {
   "cell_type": "code",
   "execution_count": 13,
   "metadata": {},
   "outputs": [
    {
     "name": "stdout",
     "output_type": "stream",
     "text": [
      "Suck it Marty\n"
     ]
    }
   ],
   "source": [
    "if seans_results.mean() < martys_results.mean():\n",
    "    print('Suck it Marty')\n",
    "else:\n",
    "    print('Must be a bug in the code')  # just for you marty lol"
   ]
  }
 ],
 "metadata": {
  "kernelspec": {
   "display_name": "Python [conda env:py37] *",
   "language": "python",
   "name": "conda-env-py37-py"
  },
  "language_info": {
   "codemirror_mode": {
    "name": "ipython",
    "version": 3
   },
   "file_extension": ".py",
   "mimetype": "text/x-python",
   "name": "python",
   "nbconvert_exporter": "python",
   "pygments_lexer": "ipython3",
   "version": "3.6.10"
  }
 },
 "nbformat": 4,
 "nbformat_minor": 4
}
